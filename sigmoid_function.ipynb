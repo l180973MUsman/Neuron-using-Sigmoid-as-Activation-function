{
  "nbformat": 4,
  "nbformat_minor": 0,
  "metadata": {
    "colab": {
      "name": "l180973 sigmoid function.ipynb",
      "provenance": [],
      "collapsed_sections": []
    },
    "kernelspec": {
      "name": "python3",
      "display_name": "Python 3"
    },
    "language_info": {
      "name": "python"
    }
  },
  "cells": [
    {
      "cell_type": "markdown",
      "metadata": {
        "id": "SzU2uLg03Mot"
      },
      "source": [
        "Import the MNIST dataset"
      ]
    },
    {
      "cell_type": "code",
      "metadata": {
        "id": "_3VgIKAq2AGk"
      },
      "source": [
        "from sklearn.datasets import fetch_openml\n",
        "from keras.utils.np_utils import to_categorical\n",
        "import numpy as np\n",
        "#from sklearn.model_selection import train_test_split\n",
        "import time\n",
        "\n",
        "mnist = fetch_openml('mnist_784')\n",
        "x,y=mnist['data'],mnist['target']\n",
        "x = (x/255).astype('float32')\n",
        "y = to_categorical(y)\n",
        "\n",
        "# train-test split\n",
        "x_train,x_val=x[:60000], x[60000:]\n",
        "y_train, y_val = y[:60000], y[60000:]\n",
        "#shuffling the data\n",
        "shuffle_index=np.random.permutation(60000)\n",
        "x_train,y_train= x_train[shuffle_index] , y_train[shuffle_index]"
      ],
      "execution_count": 1,
      "outputs": []
    },
    {
      "cell_type": "markdown",
      "metadata": {
        "id": "UeWzz_NN3XuM"
      },
      "source": [
        "Initialize the Matrices"
      ]
    },
    {
      "cell_type": "code",
      "metadata": {
        "id": "zSBGxLdA2E0o"
      },
      "source": [
        "\n",
        "def initialization():\n",
        "    # number of nodes in each layer\n",
        "\n",
        "    W1 = np.random.randn(128, 784) * np.sqrt(1. / 128)\n",
        "    W2 = np.random.randn(10, 128) * np.sqrt(1. / 10)\n",
        "    B1 = np.random.randn(128,) * np.sqrt(1. / 128)\n",
        "    B2 = np.random.randn(10,) * np.sqrt(1. / 128)     \n",
        "\n",
        "    return W1,B1,W2,B2\n"
      ],
      "execution_count": 2,
      "outputs": []
    },
    {
      "cell_type": "markdown",
      "metadata": {
        "id": "YNRPCyir3d1C"
      },
      "source": [
        "Activation Functions: \n",
        "(i) Sigmoid for Inner layer\n",
        "(ii) Softmax for Output layer"
      ]
    },
    {
      "cell_type": "code",
      "metadata": {
        "id": "Xh8BVXbP2G5m"
      },
      "source": [
        "def sigmoid(x):\n",
        "    return 1/(1 + np.exp(-x))\n",
        "\n",
        "def sigmoid_derivative(x):\n",
        "    return (np.exp(-x))/((np.exp(-x)+1)**2)\n",
        "\n",
        "\n",
        "def softmax(x):\n",
        "    # Numerically stable with large exponentials\n",
        "    exps = np.exp(x - x.max())\n",
        "    return exps / np.sum(exps, axis=0)\n",
        "\n",
        "def softmax_derivative(x):\n",
        "    exps = np.exp(x - x.max())\n",
        "    return exps / np.sum(exps, axis=0) * (1 - exps / np.sum(exps, axis=0))"
      ],
      "execution_count": 3,
      "outputs": []
    },
    {
      "cell_type": "code",
      "metadata": {
        "id": "f0eTmzDF5dwQ"
      },
      "source": [
        "Forward Propagation "
      ],
      "execution_count": null,
      "outputs": []
    },
    {
      "cell_type": "code",
      "metadata": {
        "id": "QCW3DLkP2I7V"
      },
      "source": [
        "def forward_pass(x_train, W1,B1,W2,B2):\n",
        "    \n",
        "\n",
        "    # input layer activations becomes sample\n",
        "    A0 = x_train\n",
        "\n",
        "    # input layer to hidden layer 1\n",
        "    Z1 = np.dot(W1, A0) + B1\n",
        "    A1 = sigmoid(Z1)\n",
        "\n",
        "\n",
        "    # hidden layer 1 to hidden layer 2\n",
        "    Z2 = np.dot(W2, A1)\n",
        "    A2 = softmax(Z2) + B2\n",
        "\n",
        "    return A1,A2,Z1,Z2\n"
      ],
      "execution_count": 4,
      "outputs": []
    },
    {
      "cell_type": "markdown",
      "metadata": {
        "id": "kVrTzDYM5jJS"
      },
      "source": [
        "Backward Propagation"
      ]
    },
    {
      "cell_type": "code",
      "metadata": {
        "id": "WcKP8bXs2Kuc"
      },
      "source": [
        "def backward_pass(x_train, y_train,A1, output, W1,B1,W2,B2,Z1,Z2):\n",
        "    \n",
        "    # Calculate W3 update\n",
        "    \n",
        "    error = 2 * (output - y_train) / output[0] * softmax_derivative(Z2)\n",
        "    change_W2 = np.outer(error, A1)\n",
        "    change_B2 = (1 / 70000) * np.sum(error)\n",
        "\n",
        "    # Calculate W2 update\n",
        "    error = np.dot(W2.T, error) * sigmoid_derivative(Z1)\n",
        "    change_W1 = np.outer(error, x_train)\n",
        "    change_B1 = (1 / 70000) * np.sum(error)\n",
        "\n",
        "    return change_W2,change_B2,change_W1,change_B1"
      ],
      "execution_count": 5,
      "outputs": []
    },
    {
      "cell_type": "markdown",
      "metadata": {
        "id": "5qDaP5YU5mM0"
      },
      "source": [
        "Update Vectors/Matrices according to update rule from\n",
        "        Stochastic Gradient Descent."
      ]
    },
    {
      "cell_type": "code",
      "metadata": {
        "id": "1AGcL19U2NZl"
      },
      "source": [
        "\n",
        "def update_network_parameters(W1,B1,W2,B2, change_W2,change_B2,change_W1,change_B1,l_rate):\n",
        "    '''\n",
        "       \n",
        "    '''\n",
        "    W2 = W2 - l_rate * change_W2\n",
        "    B2 = B2 - l_rate * change_B2\n",
        "    W1 = W1 - l_rate * change_W1\n",
        "    B1 = B1 - l_rate * change_B1\n",
        "  \n",
        "    return W1,B1,W2,B2"
      ],
      "execution_count": 6,
      "outputs": []
    },
    {
      "cell_type": "markdown",
      "metadata": {
        "id": "lOKvwSJ155Zy"
      },
      "source": [
        "Calculate accuracy by matching each result with respective label"
      ]
    },
    {
      "cell_type": "code",
      "metadata": {
        "id": "meXhmouV2PZj"
      },
      "source": [
        "\n",
        "def compute_accuracy(x_val, y_val,W1,B1,W2,B2):\n",
        "    \n",
        "    predictions = []\n",
        "\n",
        "    for x, y in zip(x_val, y_val):\n",
        "        A1,output,Z1,Z2 = forward_pass(x,W1,B1,W2,B2)\n",
        "        pred = np.argmax(output)\n",
        "        predictions.append(pred == np.argmax(y))\n",
        "    \n",
        "    return np.mean(predictions)"
      ],
      "execution_count": 7,
      "outputs": []
    },
    {
      "cell_type": "markdown",
      "metadata": {
        "id": "OFibdS6h6HCQ"
      },
      "source": [
        "Gradient Descent: training function"
      ]
    },
    {
      "cell_type": "code",
      "metadata": {
        "colab": {
          "base_uri": "https://localhost:8080/"
        },
        "id": "CJ-7Mknp2RlA",
        "outputId": "ea5a1d57-3962-4f24-8c32-f483d3810ec2"
      },
      "source": [
        "\n",
        "def train(x_train, y_train, x_val, y_val,epochs,l_rate):\n",
        "    start_time = time.time()\n",
        "    W1,B1,W2,B2 = initialization()\n",
        "    for iteration in range(epochs):\n",
        "        for x,y in zip(x_train, y_train):\n",
        "\n",
        "            A1,output,Z1,Z2 = forward_pass(x,W1,B1,W2,B2)\n",
        "      \n",
        "            change_W2,change_B2,change_W1,change_B1 = backward_pass(x,y,A1,output,  W1,B1,W2,B2,Z1,Z2)\n",
        "            W1,B1,W2,B2 = update_network_parameters(W1,B1,W2,B2,change_W2,change_B2,change_W1,change_B1, l_rate)\n",
        "\n",
        "        accuracy = compute_accuracy(x_val, y_val,W1,B1,W2,B2)\n",
        "        print('Epoch: {0}, Time Spent: {1:.2f}s, Accuracy: {2:.2f}%'.format(\n",
        "            iteration+1, time.time() - start_time, accuracy * 100\n",
        "        ))\n",
        "      \n",
        "    return W1,B1,W2,B2\n",
        "          \n",
        "W1,B1,W2,B2 = train(x_train, y_train, x_val, y_val,10,0.001)\n",
        "\n",
        "  "
      ],
      "execution_count": 8,
      "outputs": [
        {
          "output_type": "stream",
          "text": [
            "Epoch: 1, Time Spent: 62.68s, Accuracy: 91.84%\n",
            "Epoch: 2, Time Spent: 125.25s, Accuracy: 93.65%\n",
            "Epoch: 3, Time Spent: 184.52s, Accuracy: 94.03%\n",
            "Epoch: 4, Time Spent: 242.30s, Accuracy: 94.52%\n",
            "Epoch: 5, Time Spent: 300.18s, Accuracy: 94.94%\n",
            "Epoch: 6, Time Spent: 358.37s, Accuracy: 94.98%\n",
            "Epoch: 7, Time Spent: 415.84s, Accuracy: 94.97%\n",
            "Epoch: 8, Time Spent: 480.17s, Accuracy: 95.29%\n",
            "Epoch: 9, Time Spent: 543.67s, Accuracy: 95.39%\n",
            "Epoch: 10, Time Spent: 606.74s, Accuracy: 95.30%\n"
          ],
          "name": "stdout"
        }
      ]
    },
    {
      "cell_type": "markdown",
      "metadata": {
        "id": "l_iroLvq6ZY7"
      },
      "source": [
        "Testing Portion:\n",
        "Checking the train model againt inputs"
      ]
    },
    {
      "cell_type": "code",
      "metadata": {
        "id": "2fwVL_lJ25mm"
      },
      "source": [
        "def predictions(x,W1,B1,W2,B2):\n",
        "    A1,output,Z1,Z2 = forward_pass(x,W1,B1,W2,B2)\n",
        "    pred = np.argmax(output)\n",
        "    return pred"
      ],
      "execution_count": 9,
      "outputs": []
    },
    {
      "cell_type": "code",
      "metadata": {
        "id": "irOAWc8l270v"
      },
      "source": [
        "\n",
        "def test_prediction(index, W1, B1, W2, B2):\n",
        "    prediction = predictions(x_train[ index,:],W1,B1,W2,B2)\n",
        "    label = y_train[index]\n",
        "    print(\"Prediction: \", prediction)\n",
        "    print(\"Label: \", label)\n",
        "  "
      ],
      "execution_count": 10,
      "outputs": []
    },
    {
      "cell_type": "markdown",
      "metadata": {
        "id": "iQLz0chx6WJ_"
      },
      "source": [
        "Testing by providing input"
      ]
    },
    {
      "cell_type": "code",
      "metadata": {
        "colab": {
          "base_uri": "https://localhost:8080/"
        },
        "id": "raVOs1bt3AFm",
        "outputId": "2bb79cca-98e7-4001-fd9a-23a8c2fd918e"
      },
      "source": [
        "test_prediction(23, W1, B1, W2, B2)\n",
        "test_prediction(3799, W1, B1, W2, B2)\n",
        "test_prediction(12, W1, B1, W2, B2)\n",
        "test_prediction(45, W1, B1, W2, B2)"
      ],
      "execution_count": 11,
      "outputs": [
        {
          "output_type": "stream",
          "text": [
            "Prediction:  5\n",
            "Label:  [0. 0. 0. 0. 0. 1. 0. 0. 0. 0.]\n",
            "Prediction:  0\n",
            "Label:  [1. 0. 0. 0. 0. 0. 0. 0. 0. 0.]\n",
            "Prediction:  4\n",
            "Label:  [0. 0. 0. 0. 1. 0. 0. 0. 0. 0.]\n",
            "Prediction:  4\n",
            "Label:  [0. 0. 0. 0. 1. 0. 0. 0. 0. 0.]\n"
          ],
          "name": "stdout"
        }
      ]
    }
  ]
}